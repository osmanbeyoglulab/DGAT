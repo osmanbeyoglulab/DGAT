{
 "cells": [
  {
   "cell_type": "markdown",
   "id": "098c536a-3687-419f-9d14-544075402a82",
   "metadata": {},
   "source": [
    "## Init\n",
    "Please replace the **sample_list**, **model_save_dir**, **pyg_save_dir** and **dataset_save_dir**"
   ]
  },
  {
   "cell_type": "code",
   "execution_count": 1,
   "id": "224dbdac-fafd-4e1b-bace-ef6f6ecc217a",
   "metadata": {},
   "outputs": [],
   "source": [
    "import numpy as np\n",
    "\n",
    "import scanpy as sc\n",
    "import torch\n",
    "import warnings\n",
    "warnings.filterwarnings('ignore')\n",
    "\n",
    "from utils.Preprocessing import qc_control_cytassist, normalize, clean_protein_names, QC_train_list\n",
    "from Model.Training import train_and_evaluate_fold, train\n",
    "\n",
    "import random\n",
    "import os\n",
    "os.environ['KMP_DUPLICATE_LIB_OK'] = 'True'\n",
    "\n",
    "sample_list = ['Tonsil', 'Tonsil_AddOns', 'Breast', 'Glioblastoma','PBC-PR_6835-5A','PBC_PR_6837']\n",
    "\n",
    "dataset_save_dir = '/ix/hosmanbeyoglu/haw309/DGAT_Datasets'\n",
    "\n",
    "pyg_save_dir = '/ix/hosmanbeyoglu/haw309/pyg_data'\n",
    "model_save_dir = '/ix/hosmanbeyoglu/haw309/DGAT_models'\n"
   ]
  },
  {
   "cell_type": "code",
   "execution_count": 2,
   "id": "28883f2e-d071-4d33-bda3-56d9d354d31c",
   "metadata": {},
   "outputs": [
    {
     "name": "stdout",
     "output_type": "stream",
     "text": [
      "Tonsil\n",
      "Tonsil_AddOns\n",
      "Breast\n",
      "Glioblastoma\n",
      "PBC-PR_6835-5A\n",
      "PBC_PR_6837\n"
     ]
    }
   ],
   "source": [
    "adata_list = []\n",
    "pdata_list = []\n",
    "for sample in sample_list:\n",
    "    print(sample)\n",
    "    adata = sc.read_h5ad(f'{dataset_save_dir}/{sample}_RNA.h5ad')\n",
    "    pdata = sc.read_h5ad(f'{dataset_save_dir}/{sample}_ADT.h5ad')\n",
    "    adata_list.append(adata)\n",
    "    pdata_list.append(pdata)\n"
   ]
  },
  {
   "cell_type": "code",
   "execution_count": null,
   "id": "94e8c6ed-e3ee-40e9-86f9-42cbc5e5b098",
   "metadata": {},
   "outputs": [],
   "source": []
  },
  {
   "cell_type": "code",
   "execution_count": 3,
   "id": "b11ea399-c41a-402a-9040-54a8ada75996",
   "metadata": {
    "scrolled": true
   },
   "outputs": [
    {
     "name": "stdout",
     "output_type": "stream",
     "text": [
      "Common genes before QC: 18085\n",
      "Common proteins before QC: 35\n",
      "Num of encoding genes: 30\n",
      "Common genes after QC: 11535\n",
      "Common proteins after QC: 31\n",
      "Common gene names saved to common_gene_11535.txt\n",
      "Common protein names saved to common_protein_31.txt\n"
     ]
    }
   ],
   "source": [
    "common_gene, common_protein = QC_train_list(adata_list, pdata_list)"
   ]
  },
  {
   "cell_type": "code",
   "execution_count": 4,
   "id": "8b6fd41e-a9fe-4c2d-86c8-3242a0d26bff",
   "metadata": {},
   "outputs": [],
   "source": [
    "adata_list = [adata[:,common_gene] for adata in adata_list]\n",
    "pdata_list = [pdata[:,common_protein] for pdata in pdata_list]"
   ]
  },
  {
   "cell_type": "code",
   "execution_count": 5,
   "id": "6ffa975b-dc49-4d72-b439-07f73b693cf4",
   "metadata": {
    "scrolled": true
   },
   "outputs": [
    {
     "name": "stdout",
     "output_type": "stream",
     "text": [
      "Common genes: 11535\n",
      "Common proteins: 31\n",
      "Creating or loading dataset\n",
      "Loading preprocessed data for sample 'CytAssist_FFPE_Protein_Expression_Human_Tonsil' from '/ix/hosmanbeyoglu/haw309/pyg_data/CytAssist_FFPE_Protein_Expression_Human_Tonsil_11535_new_spatial=6_1hop_new_filtering.pth'\n",
      "Loading preprocessed data for sample 'CytAssist_FFPE_Protein_Expression_Human_Tonsil_AddOns' from '/ix/hosmanbeyoglu/haw309/pyg_data/CytAssist_FFPE_Protein_Expression_Human_Tonsil_AddOns_11535_new_spatial=6_1hop_new_filtering.pth'\n",
      "Loading preprocessed data for sample 'CytAssist_FFPE_Protein_Expression_Human_Breast_Cancer' from '/ix/hosmanbeyoglu/haw309/pyg_data/CytAssist_FFPE_Protein_Expression_Human_Breast_Cancer_11535_new_spatial=6_1hop_new_filtering.pth'\n",
      "Loading preprocessed data for sample 'CytAssist_FFPE_Protein_Expression_Human_Glioblastoma' from '/ix/hosmanbeyoglu/haw309/pyg_data/CytAssist_FFPE_Protein_Expression_Human_Glioblastoma_11535_new_spatial=6_1hop_new_filtering.pth'\n",
      "Loading preprocessed data for sample 'PBC-PR_6835-5A' from '/ix/hosmanbeyoglu/haw309/pyg_data/PBC-PR_6835-5A_11535_new_spatial=6_1hop_new_filtering.pth'\n",
      "Loading preprocessed data for sample 'PBC_PR_6837' from '/ix/hosmanbeyoglu/haw309/pyg_data/PBC_PR_6837_11535_new_spatial=6_1hop_new_filtering.pth'\n",
      "Dataset ready\n",
      "Using single device for both models\n"
     ]
    },
    {
     "name": "stderr",
     "output_type": "stream",
     "text": [
      "                                                          \r"
     ]
    },
    {
     "name": "stdout",
     "output_type": "stream",
     "text": [
      "Epoch [1/100] Total Loss: 10.0399 | mRNA Recon: 1.1506 | Protein Recon: 0.2508 | Alignment: 0.4901 | Protein Pred: 0.2494 | mRNA Pred: 1.1538\n",
      "Epoch 1: EB evidence = 0.1741\n"
     ]
    },
    {
     "name": "stderr",
     "output_type": "stream",
     "text": [
      "                                                          \r"
     ]
    },
    {
     "name": "stdout",
     "output_type": "stream",
     "text": [
      "Epoch [2/100] Total Loss: 8.0588 | mRNA Recon: 1.0262 | Protein Recon: 0.2789 | Alignment: 0.3883 | Protein Pred: 0.2759 | mRNA Pred: 1.0269\n",
      "Epoch 2: EB evidence = 1.0062\n"
     ]
    },
    {
     "name": "stderr",
     "output_type": "stream",
     "text": [
      "                                                          \r"
     ]
    },
    {
     "name": "stdout",
     "output_type": "stream",
     "text": [
      "Epoch [3/100] Total Loss: 7.7179 | mRNA Recon: 1.0160 | Protein Recon: 0.2753 | Alignment: 0.3214 | Protein Pred: 0.2716 | mRNA Pred: 1.0168\n",
      "Epoch 3: EB evidence = 0.5200\n"
     ]
    },
    {
     "name": "stderr",
     "output_type": "stream",
     "text": [
      "                                                          \r"
     ]
    },
    {
     "name": "stdout",
     "output_type": "stream",
     "text": [
      "Epoch [4/100] Total Loss: 7.5451 | mRNA Recon: 1.0116 | Protein Recon: 0.3561 | Alignment: 0.2750 | Protein Pred: 0.3536 | mRNA Pred: 1.0124\n",
      "Epoch 4: EB evidence = 0.4994\n"
     ]
    },
    {
     "name": "stderr",
     "output_type": "stream",
     "text": [
      "                                                          \r"
     ]
    },
    {
     "name": "stdout",
     "output_type": "stream",
     "text": [
      "Epoch [5/100] Total Loss: 7.4570 | mRNA Recon: 1.0081 | Protein Recon: 0.2235 | Alignment: 0.2459 | Protein Pred: 0.2182 | mRNA Pred: 1.0088\n",
      "Epoch 5: EB evidence = 0.9764\n"
     ]
    },
    {
     "name": "stderr",
     "output_type": "stream",
     "text": [
      "                                                          \r"
     ]
    },
    {
     "name": "stdout",
     "output_type": "stream",
     "text": [
      "Epoch [6/100] Total Loss: 7.3799 | mRNA Recon: 1.0005 | Protein Recon: 0.2573 | Alignment: 0.2265 | Protein Pred: 0.2565 | mRNA Pred: 1.0016\n",
      "Epoch 6: EB evidence = 0.9418\n"
     ]
    },
    {
     "name": "stderr",
     "output_type": "stream",
     "text": [
      "                                                          \r"
     ]
    },
    {
     "name": "stdout",
     "output_type": "stream",
     "text": [
      "Epoch [7/100] Total Loss: 7.3221 | mRNA Recon: 1.0022 | Protein Recon: 0.2749 | Alignment: 0.2203 | Protein Pred: 0.2747 | mRNA Pred: 1.0037\n",
      "Epoch 7: EB evidence = 0.7257\n"
     ]
    },
    {
     "name": "stderr",
     "output_type": "stream",
     "text": [
      "                                                          \r"
     ]
    },
    {
     "name": "stdout",
     "output_type": "stream",
     "text": [
      "Epoch [8/100] Total Loss: 7.2659 | mRNA Recon: 1.0038 | Protein Recon: 0.2083 | Alignment: 0.1934 | Protein Pred: 0.2058 | mRNA Pred: 1.0043\n",
      "Epoch 8: EB evidence = 0.5628\n"
     ]
    },
    {
     "name": "stderr",
     "output_type": "stream",
     "text": [
      "                                                          \r"
     ]
    },
    {
     "name": "stdout",
     "output_type": "stream",
     "text": [
      "Epoch [9/100] Total Loss: 7.1975 | mRNA Recon: 1.0031 | Protein Recon: 0.1990 | Alignment: 0.1813 | Protein Pred: 0.1967 | mRNA Pred: 1.0036\n",
      "Epoch 9: EB evidence = 0.8536\n"
     ]
    },
    {
     "name": "stderr",
     "output_type": "stream",
     "text": [
      "                                                           \r"
     ]
    },
    {
     "name": "stdout",
     "output_type": "stream",
     "text": [
      "Epoch [10/100] Total Loss: 7.1285 | mRNA Recon: 0.9906 | Protein Recon: 0.1992 | Alignment: 0.1812 | Protein Pred: 0.2071 | mRNA Pred: 0.9938\n",
      "Epoch 10: Learning rate reduced.\n",
      "Epoch 10: EB evidence = 0.7579\n"
     ]
    },
    {
     "name": "stderr",
     "output_type": "stream",
     "text": [
      "                                                           \r"
     ]
    },
    {
     "name": "stdout",
     "output_type": "stream",
     "text": [
      "Epoch [11/100] Total Loss: 7.0707 | mRNA Recon: 1.0022 | Protein Recon: 0.1778 | Alignment: 0.1572 | Protein Pred: 0.1905 | mRNA Pred: 1.0027\n",
      "Epoch 11: EB evidence = 0.9990\n"
     ]
    },
    {
     "name": "stderr",
     "output_type": "stream",
     "text": [
      "                                                           \r"
     ]
    },
    {
     "name": "stdout",
     "output_type": "stream",
     "text": [
      "Epoch [12/100] Total Loss: 7.0213 | mRNA Recon: 0.9883 | Protein Recon: 0.2233 | Alignment: 0.1685 | Protein Pred: 0.2506 | mRNA Pred: 0.9925\n",
      "Epoch 12: EB evidence = 0.9587\n"
     ]
    },
    {
     "name": "stderr",
     "output_type": "stream",
     "text": [
      "                                                           \r"
     ]
    },
    {
     "name": "stdout",
     "output_type": "stream",
     "text": [
      "Epoch [13/100] Total Loss: 6.9847 | mRNA Recon: 1.0000 | Protein Recon: 0.2675 | Alignment: 0.1470 | Protein Pred: 0.2893 | mRNA Pred: 1.0018\n",
      "Epoch 13: EB evidence = 1.4101\n"
     ]
    },
    {
     "name": "stderr",
     "output_type": "stream",
     "text": [
      "                                                           \r"
     ]
    },
    {
     "name": "stdout",
     "output_type": "stream",
     "text": [
      "Epoch [14/100] Total Loss: 6.9777 | mRNA Recon: 1.0016 | Protein Recon: 0.1709 | Alignment: 0.1357 | Protein Pred: 0.1877 | mRNA Pred: 1.0024\n",
      "Epoch 14: EB evidence = 1.1609\n"
     ]
    },
    {
     "name": "stderr",
     "output_type": "stream",
     "text": [
      "                                                           \r"
     ]
    },
    {
     "name": "stdout",
     "output_type": "stream",
     "text": [
      "Epoch [15/100] Total Loss: 6.9424 | mRNA Recon: 0.9721 | Protein Recon: 0.1701 | Alignment: 0.1432 | Protein Pred: 0.1992 | mRNA Pred: 0.9757\n",
      "Epoch 15: EB evidence = 0.8933\n"
     ]
    },
    {
     "name": "stderr",
     "output_type": "stream",
     "text": [
      "                                                           \r"
     ]
    },
    {
     "name": "stdout",
     "output_type": "stream",
     "text": [
      "Epoch [16/100] Total Loss: 6.9051 | mRNA Recon: 0.9719 | Protein Recon: 0.1638 | Alignment: 0.1379 | Protein Pred: 0.1972 | mRNA Pred: 0.9749\n",
      "Epoch 16: EB evidence = 0.7956\n"
     ]
    },
    {
     "name": "stderr",
     "output_type": "stream",
     "text": [
      "                                                           \r"
     ]
    },
    {
     "name": "stdout",
     "output_type": "stream",
     "text": [
      "Epoch [17/100] Total Loss: 6.8555 | mRNA Recon: 1.0010 | Protein Recon: 0.1595 | Alignment: 0.1147 | Protein Pred: 0.1827 | mRNA Pred: 1.0025\n",
      "Epoch 17: EB evidence = 0.8585\n"
     ]
    },
    {
     "name": "stderr",
     "output_type": "stream",
     "text": [
      "                                                           \r"
     ]
    },
    {
     "name": "stdout",
     "output_type": "stream",
     "text": [
      "Epoch [18/100] Total Loss: 6.8455 | mRNA Recon: 0.9756 | Protein Recon: 0.1620 | Alignment: 0.1267 | Protein Pred: 0.2094 | mRNA Pred: 0.9806\n",
      "Epoch 18: EB evidence = 0.9103\n"
     ]
    },
    {
     "name": "stderr",
     "output_type": "stream",
     "text": [
      "                                                           \r"
     ]
    },
    {
     "name": "stdout",
     "output_type": "stream",
     "text": [
      "Epoch [19/100] Total Loss: 6.8419 | mRNA Recon: 0.9855 | Protein Recon: 0.1563 | Alignment: 0.1163 | Protein Pred: 0.2015 | mRNA Pred: 0.9887\n",
      "Epoch 19: EB evidence = 0.8515\n"
     ]
    },
    {
     "name": "stderr",
     "output_type": "stream",
     "text": [
      "                                                           \r"
     ]
    },
    {
     "name": "stdout",
     "output_type": "stream",
     "text": [
      "Epoch [20/100] Total Loss: 6.8047 | mRNA Recon: 1.0002 | Protein Recon: 0.1587 | Alignment: 0.1070 | Protein Pred: 0.1748 | mRNA Pred: 1.0013\n",
      "Epoch 20: Learning rate reduced.\n",
      "Epoch 20: EB evidence = 0.8720\n"
     ]
    },
    {
     "name": "stderr",
     "output_type": "stream",
     "text": [
      "                                                           \r"
     ]
    },
    {
     "name": "stdout",
     "output_type": "stream",
     "text": [
      "Epoch [21/100] Total Loss: 6.8098 | mRNA Recon: 0.9701 | Protein Recon: 0.1645 | Alignment: 0.1191 | Protein Pred: 0.2081 | mRNA Pred: 0.9708\n",
      "Epoch 21: EB evidence = 0.7596\n"
     ]
    },
    {
     "name": "stderr",
     "output_type": "stream",
     "text": [
      "                                                           \r"
     ]
    },
    {
     "name": "stdout",
     "output_type": "stream",
     "text": [
      "Epoch [22/100] Total Loss: 6.7554 | mRNA Recon: 0.9955 | Protein Recon: 0.2219 | Alignment: 0.1052 | Protein Pred: 0.2659 | mRNA Pred: 0.9989\n",
      "Epoch 22: EB evidence = 0.9516\n"
     ]
    },
    {
     "name": "stderr",
     "output_type": "stream",
     "text": [
      "                                                           \r"
     ]
    },
    {
     "name": "stdout",
     "output_type": "stream",
     "text": [
      "Epoch [23/100] Total Loss: 6.7378 | mRNA Recon: 0.9823 | Protein Recon: 0.1426 | Alignment: 0.1026 | Protein Pred: 0.1892 | mRNA Pred: 0.9864\n",
      "Epoch 23: EB evidence = 0.9509\n"
     ]
    },
    {
     "name": "stderr",
     "output_type": "stream",
     "text": [
      "                                                           \r"
     ]
    },
    {
     "name": "stdout",
     "output_type": "stream",
     "text": [
      "Epoch [24/100] Total Loss: 6.7086 | mRNA Recon: 0.9813 | Protein Recon: 0.1400 | Alignment: 0.1007 | Protein Pred: 0.1767 | mRNA Pred: 0.9864\n",
      "Epoch 24: EB evidence = 0.3190\n"
     ]
    },
    {
     "name": "stderr",
     "output_type": "stream",
     "text": [
      "                                                           \r"
     ]
    },
    {
     "name": "stdout",
     "output_type": "stream",
     "text": [
      "Epoch [25/100] Total Loss: 6.6918 | mRNA Recon: 0.9986 | Protein Recon: 0.1384 | Alignment: 0.0907 | Protein Pred: 0.1572 | mRNA Pred: 1.0007\n",
      "Epoch 25: EB evidence = 0.9526\n"
     ]
    },
    {
     "name": "stderr",
     "output_type": "stream",
     "text": [
      "                                                           \r"
     ]
    },
    {
     "name": "stdout",
     "output_type": "stream",
     "text": [
      "Epoch [26/100] Total Loss: 6.6707 | mRNA Recon: 0.9817 | Protein Recon: 0.1321 | Alignment: 0.0950 | Protein Pred: 0.1724 | mRNA Pred: 0.9860\n",
      "Epoch 26: EB evidence = 0.9637\n"
     ]
    },
    {
     "name": "stderr",
     "output_type": "stream",
     "text": [
      "                                                           \r"
     ]
    },
    {
     "name": "stdout",
     "output_type": "stream",
     "text": [
      "Epoch [27/100] Total Loss: 6.6680 | mRNA Recon: 0.9661 | Protein Recon: 0.1389 | Alignment: 0.0986 | Protein Pred: 0.1744 | mRNA Pred: 0.9725\n",
      "Epoch 27: EB evidence = 0.9221\n"
     ]
    },
    {
     "name": "stderr",
     "output_type": "stream",
     "text": [
      "                                                           \r"
     ]
    },
    {
     "name": "stdout",
     "output_type": "stream",
     "text": [
      "Epoch [28/100] Total Loss: 6.6613 | mRNA Recon: 0.9985 | Protein Recon: 0.1315 | Alignment: 0.0862 | Protein Pred: 0.1556 | mRNA Pred: 1.0009\n",
      "Epoch 28: EB evidence = 0.9294\n"
     ]
    },
    {
     "name": "stderr",
     "output_type": "stream",
     "text": [
      "                                                           \r"
     ]
    },
    {
     "name": "stdout",
     "output_type": "stream",
     "text": [
      "Epoch [29/100] Total Loss: 6.6464 | mRNA Recon: 0.9794 | Protein Recon: 0.1254 | Alignment: 0.0913 | Protein Pred: 0.1679 | mRNA Pred: 0.9849\n",
      "Epoch 29: EB evidence = 0.9614\n"
     ]
    },
    {
     "name": "stderr",
     "output_type": "stream",
     "text": [
      "                                                           \r"
     ]
    },
    {
     "name": "stdout",
     "output_type": "stream",
     "text": [
      "Epoch [30/100] Total Loss: 6.6243 | mRNA Recon: 0.9641 | Protein Recon: 0.1298 | Alignment: 0.0952 | Protein Pred: 0.1640 | mRNA Pred: 0.9703\n",
      "Epoch 30: Learning rate reduced.\n",
      "Epoch 30: EB evidence = 0.9353\n"
     ]
    },
    {
     "name": "stderr",
     "output_type": "stream",
     "text": [
      "                                                           \r"
     ]
    },
    {
     "name": "stdout",
     "output_type": "stream",
     "text": [
      "Epoch [31/100] Total Loss: 6.6028 | mRNA Recon: 0.9785 | Protein Recon: 0.1223 | Alignment: 0.0873 | Protein Pred: 0.1577 | mRNA Pred: 0.9834\n",
      "Epoch 31: EB evidence = 0.9522\n"
     ]
    },
    {
     "name": "stderr",
     "output_type": "stream",
     "text": [
      "                                                           \r"
     ]
    },
    {
     "name": "stdout",
     "output_type": "stream",
     "text": [
      "Epoch [32/100] Total Loss: 6.5853 | mRNA Recon: 0.9624 | Protein Recon: 0.1243 | Alignment: 0.0917 | Protein Pred: 0.1576 | mRNA Pred: 0.9694\n",
      "Epoch 32: EB evidence = 0.9845\n"
     ]
    },
    {
     "name": "stderr",
     "output_type": "stream",
     "text": [
      "                                                           \r"
     ]
    },
    {
     "name": "stdout",
     "output_type": "stream",
     "text": [
      "Epoch [33/100] Total Loss: 6.5787 | mRNA Recon: 0.9635 | Protein Recon: 0.1339 | Alignment: 0.0912 | Protein Pred: 0.1636 | mRNA Pred: 0.9668\n",
      "Epoch 33: EB evidence = 0.9448\n"
     ]
    },
    {
     "name": "stderr",
     "output_type": "stream",
     "text": [
      "                                                           \r"
     ]
    },
    {
     "name": "stdout",
     "output_type": "stream",
     "text": [
      "Epoch [34/100] Total Loss: 6.5640 | mRNA Recon: 0.9530 | Protein Recon: 0.1246 | Alignment: 0.0871 | Protein Pred: 0.1559 | mRNA Pred: 0.9611\n",
      "Epoch 34: EB evidence = 1.0228\n"
     ]
    },
    {
     "name": "stderr",
     "output_type": "stream",
     "text": [
      "                                                           \r"
     ]
    },
    {
     "name": "stdout",
     "output_type": "stream",
     "text": [
      "Epoch [35/100] Total Loss: 6.5563 | mRNA Recon: 0.9528 | Protein Recon: 0.1240 | Alignment: 0.0848 | Protein Pred: 0.1597 | mRNA Pred: 0.9607\n",
      "Epoch 35: EB evidence = 0.9142\n"
     ]
    },
    {
     "name": "stderr",
     "output_type": "stream",
     "text": [
      "                                                           \r"
     ]
    },
    {
     "name": "stdout",
     "output_type": "stream",
     "text": [
      "Epoch [36/100] Total Loss: 6.5507 | mRNA Recon: 0.9977 | Protein Recon: 0.1153 | Alignment: 0.0742 | Protein Pred: 0.1422 | mRNA Pred: 1.0002\n",
      "Epoch 36: EB evidence = 0.9380\n"
     ]
    },
    {
     "name": "stderr",
     "output_type": "stream",
     "text": [
      "                                                           \r"
     ]
    },
    {
     "name": "stdout",
     "output_type": "stream",
     "text": [
      "Epoch [37/100] Total Loss: 6.5707 | mRNA Recon: 0.9638 | Protein Recon: 0.1312 | Alignment: 0.0893 | Protein Pred: 0.1874 | mRNA Pred: 0.9657\n",
      "Epoch 37: EB evidence = 13.5000\n"
     ]
    },
    {
     "name": "stderr",
     "output_type": "stream",
     "text": [
      "                                                           \r"
     ]
    },
    {
     "name": "stdout",
     "output_type": "stream",
     "text": [
      "Epoch [38/100] Total Loss: 6.5449 | mRNA Recon: 0.9764 | Protein Recon: 0.1114 | Alignment: 0.0782 | Protein Pred: 0.1448 | mRNA Pred: 0.9820\n",
      "Epoch 38: EB evidence = 0.9579\n"
     ]
    },
    {
     "name": "stderr",
     "output_type": "stream",
     "text": [
      "                                                           \r"
     ]
    },
    {
     "name": "stdout",
     "output_type": "stream",
     "text": [
      "Epoch [39/100] Total Loss: 6.5433 | mRNA Recon: 0.9772 | Protein Recon: 0.1094 | Alignment: 0.0782 | Protein Pred: 0.1527 | mRNA Pred: 0.9818\n",
      "Epoch 39: EB evidence = 0.8886\n"
     ]
    },
    {
     "name": "stderr",
     "output_type": "stream",
     "text": [
      "                                                           \r"
     ]
    },
    {
     "name": "stdout",
     "output_type": "stream",
     "text": [
      "Epoch [40/100] Total Loss: 6.5357 | mRNA Recon: 0.9763 | Protein Recon: 0.1130 | Alignment: 0.0789 | Protein Pred: 0.1461 | mRNA Pred: 0.9826\n",
      "Epoch 40: Learning rate reduced.\n",
      "Epoch 40: EB evidence = 0.9202\n"
     ]
    },
    {
     "name": "stderr",
     "output_type": "stream",
     "text": [
      "                                                           \r"
     ]
    },
    {
     "name": "stdout",
     "output_type": "stream",
     "text": [
      "Epoch [41/100] Total Loss: 6.5211 | mRNA Recon: 0.9969 | Protein Recon: 0.1076 | Alignment: 0.0704 | Protein Pred: 0.1371 | mRNA Pred: 0.9998\n",
      "Epoch 41: EB evidence = 0.9622\n"
     ]
    },
    {
     "name": "stderr",
     "output_type": "stream",
     "text": [
      "                                                           \r"
     ]
    },
    {
     "name": "stdout",
     "output_type": "stream",
     "text": [
      "Epoch [42/100] Total Loss: 6.5138 | mRNA Recon: 0.9614 | Protein Recon: 0.1204 | Alignment: 0.0821 | Protein Pred: 0.1591 | mRNA Pred: 0.9646\n",
      "Epoch 42: EB evidence = 0.9199\n"
     ]
    },
    {
     "name": "stderr",
     "output_type": "stream",
     "text": [
      "                                                           \r"
     ]
    },
    {
     "name": "stdout",
     "output_type": "stream",
     "text": [
      "Epoch [43/100] Total Loss: 6.5052 | mRNA Recon: 0.9581 | Protein Recon: 0.1125 | Alignment: 0.0794 | Protein Pred: 0.1410 | mRNA Pred: 0.9652\n",
      "Epoch 43: EB evidence = 0.9474\n"
     ]
    },
    {
     "name": "stderr",
     "output_type": "stream",
     "text": [
      "                                                           \r"
     ]
    },
    {
     "name": "stdout",
     "output_type": "stream",
     "text": [
      "Epoch [44/100] Total Loss: 6.4929 | mRNA Recon: 0.9579 | Protein Recon: 0.1084 | Alignment: 0.0784 | Protein Pred: 0.1379 | mRNA Pred: 0.9657\n",
      "Epoch 44: EB evidence = 0.9536\n"
     ]
    },
    {
     "name": "stderr",
     "output_type": "stream",
     "text": [
      "                                                           \r"
     ]
    },
    {
     "name": "stdout",
     "output_type": "stream",
     "text": [
      "Epoch [45/100] Total Loss: 6.4873 | mRNA Recon: 0.9923 | Protein Recon: 0.1621 | Alignment: 0.0725 | Protein Pred: 0.2097 | mRNA Pred: 0.9971\n",
      "Epoch 45: EB evidence = 0.9445\n"
     ]
    },
    {
     "name": "stderr",
     "output_type": "stream",
     "text": [
      "                                                           \r"
     ]
    },
    {
     "name": "stdout",
     "output_type": "stream",
     "text": [
      "Epoch [46/100] Total Loss: 6.4799 | mRNA Recon: 0.9609 | Protein Recon: 0.1143 | Alignment: 0.0773 | Protein Pred: 0.1473 | mRNA Pred: 0.9640\n",
      "Epoch 46: EB evidence = 0.9328\n"
     ]
    },
    {
     "name": "stderr",
     "output_type": "stream",
     "text": [
      "                                                           \r"
     ]
    },
    {
     "name": "stdout",
     "output_type": "stream",
     "text": [
      "Epoch [47/100] Total Loss: 6.4678 | mRNA Recon: 0.9572 | Protein Recon: 0.1064 | Alignment: 0.0758 | Protein Pred: 0.1344 | mRNA Pred: 0.9647\n",
      "Epoch 47: EB evidence = 0.9475\n"
     ]
    },
    {
     "name": "stderr",
     "output_type": "stream",
     "text": [
      "                                                           \r"
     ]
    },
    {
     "name": "stdout",
     "output_type": "stream",
     "text": [
      "Epoch [48/100] Total Loss: 6.4628 | mRNA Recon: 0.9495 | Protein Recon: 0.1066 | Alignment: 0.0731 | Protein Pred: 0.1424 | mRNA Pred: 0.9563\n",
      "Epoch 48: EB evidence = 0.9598\n"
     ]
    },
    {
     "name": "stderr",
     "output_type": "stream",
     "text": [
      "                                                           \r"
     ]
    },
    {
     "name": "stdout",
     "output_type": "stream",
     "text": [
      "Epoch [49/100] Total Loss: 6.4570 | mRNA Recon: 0.9735 | Protein Recon: 0.0972 | Alignment: 0.0698 | Protein Pred: 0.1329 | mRNA Pred: 0.9794\n",
      "Epoch 49: EB evidence = 0.9382\n"
     ]
    },
    {
     "name": "stderr",
     "output_type": "stream",
     "text": [
      "                                                           \r"
     ]
    },
    {
     "name": "stdout",
     "output_type": "stream",
     "text": [
      "Epoch [50/100] Total Loss: 6.4484 | mRNA Recon: 0.9563 | Protein Recon: 0.1009 | Alignment: 0.0726 | Protein Pred: 0.1297 | mRNA Pred: 0.9640\n",
      "Epoch 50: Learning rate reduced.\n",
      "Epoch 50: EB evidence = 0.9562\n"
     ]
    },
    {
     "name": "stderr",
     "output_type": "stream",
     "text": [
      "                                                           \r"
     ]
    },
    {
     "name": "stdout",
     "output_type": "stream",
     "text": [
      "Epoch [51/100] Total Loss: 6.4437 | mRNA Recon: 0.9595 | Protein Recon: 0.1058 | Alignment: 0.0734 | Protein Pred: 0.1456 | mRNA Pred: 0.9630\n",
      "Epoch 51: EB evidence = 0.9385\n"
     ]
    },
    {
     "name": "stderr",
     "output_type": "stream",
     "text": [
      "                                                           \r"
     ]
    },
    {
     "name": "stdout",
     "output_type": "stream",
     "text": [
      "Epoch [52/100] Total Loss: 6.4352 | mRNA Recon: 0.9484 | Protein Recon: 0.1018 | Alignment: 0.0708 | Protein Pred: 0.1395 | mRNA Pred: 0.9561\n",
      "Epoch 52: EB evidence = 0.9671\n"
     ]
    },
    {
     "name": "stderr",
     "output_type": "stream",
     "text": [
      "                                                           \r"
     ]
    },
    {
     "name": "stdout",
     "output_type": "stream",
     "text": [
      "Epoch [53/100] Total Loss: 6.4387 | mRNA Recon: 0.9963 | Protein Recon: 0.0945 | Alignment: 0.0614 | Protein Pred: 0.1260 | mRNA Pred: 0.9997\n",
      "Epoch 53: EB evidence = 0.9646\n"
     ]
    },
    {
     "name": "stderr",
     "output_type": "stream",
     "text": [
      "                                                           \r"
     ]
    },
    {
     "name": "stdout",
     "output_type": "stream",
     "text": [
      "Epoch [54/100] Total Loss: 6.4282 | mRNA Recon: 0.9558 | Protein Recon: 0.0979 | Alignment: 0.0707 | Protein Pred: 0.1250 | mRNA Pred: 0.9632\n",
      "Epoch 54: EB evidence = 0.9739\n"
     ]
    },
    {
     "name": "stderr",
     "output_type": "stream",
     "text": [
      "                                                           \r"
     ]
    },
    {
     "name": "stdout",
     "output_type": "stream",
     "text": [
      "Epoch [55/100] Total Loss: 6.4200 | mRNA Recon: 0.9962 | Protein Recon: 0.0926 | Alignment: 0.0602 | Protein Pred: 0.1226 | mRNA Pred: 0.9991\n",
      "Epoch 55: EB evidence = 0.9752\n"
     ]
    },
    {
     "name": "stderr",
     "output_type": "stream",
     "text": [
      "                                                           \r"
     ]
    },
    {
     "name": "stdout",
     "output_type": "stream",
     "text": [
      "Epoch [56/100] Total Loss: 6.4168 | mRNA Recon: 0.9592 | Protein Recon: 0.1023 | Alignment: 0.0709 | Protein Pred: 0.1375 | mRNA Pred: 0.9623\n",
      "Epoch 56: EB evidence = 0.9390\n"
     ]
    },
    {
     "name": "stderr",
     "output_type": "stream",
     "text": [
      "                                                           \r"
     ]
    },
    {
     "name": "stdout",
     "output_type": "stream",
     "text": [
      "Epoch [57/100] Total Loss: 6.4071 | mRNA Recon: 0.9962 | Protein Recon: 0.0915 | Alignment: 0.0594 | Protein Pred: 0.1207 | mRNA Pred: 0.9994\n",
      "Epoch 57: EB evidence = 0.9718\n"
     ]
    },
    {
     "name": "stderr",
     "output_type": "stream",
     "text": [
      "                                                           \r"
     ]
    },
    {
     "name": "stdout",
     "output_type": "stream",
     "text": [
      "Epoch [58/100] Total Loss: 6.4018 | mRNA Recon: 0.9551 | Protein Recon: 0.0947 | Alignment: 0.0680 | Protein Pred: 0.1219 | mRNA Pred: 0.9625\n",
      "Epoch 58: EB evidence = 0.9658\n"
     ]
    },
    {
     "name": "stderr",
     "output_type": "stream",
     "text": [
      "                                                           \r"
     ]
    },
    {
     "name": "stdout",
     "output_type": "stream",
     "text": [
      "Epoch [59/100] Total Loss: 6.3999 | mRNA Recon: 0.9588 | Protein Recon: 0.1011 | Alignment: 0.0696 | Protein Pred: 0.1352 | mRNA Pred: 0.9618\n",
      "Epoch 59: EB evidence = 0.9205\n"
     ]
    },
    {
     "name": "stderr",
     "output_type": "stream",
     "text": [
      "                                                           \r"
     ]
    },
    {
     "name": "stdout",
     "output_type": "stream",
     "text": [
      "Epoch [60/100] Total Loss: 6.4010 | mRNA Recon: 0.9544 | Protein Recon: 0.0940 | Alignment: 0.0679 | Protein Pred: 0.1224 | mRNA Pred: 0.9620\n",
      "Epoch 60: Learning rate reduced.\n",
      "Epoch 60: EB evidence = 0.9591\n"
     ]
    },
    {
     "name": "stderr",
     "output_type": "stream",
     "text": [
      "                                                           \r"
     ]
    },
    {
     "name": "stdout",
     "output_type": "stream",
     "text": [
      "Epoch [61/100] Total Loss: 6.3968 | mRNA Recon: 0.9586 | Protein Recon: 0.0988 | Alignment: 0.0680 | Protein Pred: 0.1363 | mRNA Pred: 0.9616\n",
      "Epoch 61: EB evidence = 0.9303\n"
     ]
    },
    {
     "name": "stderr",
     "output_type": "stream",
     "text": [
      "                                                           \r"
     ]
    },
    {
     "name": "stdout",
     "output_type": "stream",
     "text": [
      "Epoch [62/100] Total Loss: 6.3934 | mRNA Recon: 0.9913 | Protein Recon: 0.1414 | Alignment: 0.0617 | Protein Pred: 0.1838 | mRNA Pred: 0.9962\n",
      "Epoch 62: EB evidence = 0.9592\n"
     ]
    },
    {
     "name": "stderr",
     "output_type": "stream",
     "text": [
      "                                                           \r"
     ]
    },
    {
     "name": "stdout",
     "output_type": "stream",
     "text": [
      "Epoch [63/100] Total Loss: 6.3944 | mRNA Recon: 0.9915 | Protein Recon: 0.1414 | Alignment: 0.0618 | Protein Pred: 0.1854 | mRNA Pred: 0.9966\n",
      "Epoch 63: EB evidence = 0.9318\n"
     ]
    },
    {
     "name": "stderr",
     "output_type": "stream",
     "text": [
      "                                                           \r"
     ]
    },
    {
     "name": "stdout",
     "output_type": "stream",
     "text": [
      "Epoch [64/100] Total Loss: 6.3923 | mRNA Recon: 0.9917 | Protein Recon: 0.1399 | Alignment: 0.0614 | Protein Pred: 0.1844 | mRNA Pred: 0.9962\n",
      "Epoch 64: EB evidence = 0.9243\n"
     ]
    },
    {
     "name": "stderr",
     "output_type": "stream",
     "text": [
      "                                                           \r"
     ]
    },
    {
     "name": "stdout",
     "output_type": "stream",
     "text": [
      "Epoch [65/100] Total Loss: 6.3898 | mRNA Recon: 0.9696 | Protein Recon: 0.0886 | Alignment: 0.0635 | Protein Pred: 0.1199 | mRNA Pred: 0.9757\n",
      "Epoch 65: EB evidence = 0.9367\n"
     ]
    },
    {
     "name": "stderr",
     "output_type": "stream",
     "text": [
      "                                                           \r"
     ]
    },
    {
     "name": "stdout",
     "output_type": "stream",
     "text": [
      "Epoch [66/100] Total Loss: 6.3859 | mRNA Recon: 0.9540 | Protein Recon: 0.0966 | Alignment: 0.0680 | Protein Pred: 0.1258 | mRNA Pred: 0.9614\n",
      "Epoch 66: EB evidence = 0.9180\n"
     ]
    },
    {
     "name": "stderr",
     "output_type": "stream",
     "text": [
      "                                                           \r"
     ]
    },
    {
     "name": "stdout",
     "output_type": "stream",
     "text": [
      "Epoch [67/100] Total Loss: 6.3728 | mRNA Recon: 0.9911 | Protein Recon: 0.1385 | Alignment: 0.0605 | Protein Pred: 0.1803 | mRNA Pred: 0.9959\n",
      "Epoch 67: EB evidence = 0.9436\n"
     ]
    },
    {
     "name": "stderr",
     "output_type": "stream",
     "text": [
      "                                                           \r"
     ]
    },
    {
     "name": "stdout",
     "output_type": "stream",
     "text": [
      "Epoch [68/100] Total Loss: 6.3773 | mRNA Recon: 0.9466 | Protein Recon: 0.0945 | Alignment: 0.0644 | Protein Pred: 0.1284 | mRNA Pred: 0.9536\n",
      "Epoch 68: EB evidence = 0.9815\n"
     ]
    },
    {
     "name": "stderr",
     "output_type": "stream",
     "text": [
      "                                                           \r"
     ]
    },
    {
     "name": "stdout",
     "output_type": "stream",
     "text": [
      "Epoch [69/100] Total Loss: 6.3644 | mRNA Recon: 0.9573 | Protein Recon: 0.0985 | Alignment: 0.0667 | Protein Pred: 0.1247 | mRNA Pred: 0.9611\n",
      "Epoch 69: EB evidence = 0.9425\n"
     ]
    },
    {
     "name": "stderr",
     "output_type": "stream",
     "text": [
      "                                                           \r"
     ]
    },
    {
     "name": "stdout",
     "output_type": "stream",
     "text": [
      "Epoch [70/100] Total Loss: 6.3585 | mRNA Recon: 0.9684 | Protein Recon: 0.0839 | Alignment: 0.0621 | Protein Pred: 0.1130 | mRNA Pred: 0.9746\n",
      "Epoch 70: Learning rate reduced.\n",
      "Epoch 70: EB evidence = 0.9675\n"
     ]
    },
    {
     "name": "stderr",
     "output_type": "stream",
     "text": [
      "                                                           \r"
     ]
    },
    {
     "name": "stdout",
     "output_type": "stream",
     "text": [
      "Epoch [71/100] Total Loss: 6.3493 | mRNA Recon: 0.9956 | Protein Recon: 0.0856 | Alignment: 0.0548 | Protein Pred: 0.1113 | mRNA Pred: 0.9985\n",
      "Epoch 71: EB evidence = 0.9734\n"
     ]
    },
    {
     "name": "stderr",
     "output_type": "stream",
     "text": [
      "                                                           \r"
     ]
    },
    {
     "name": "stdout",
     "output_type": "stream",
     "text": [
      "Epoch [72/100] Total Loss: 6.3438 | mRNA Recon: 0.9907 | Protein Recon: 0.1336 | Alignment: 0.0582 | Protein Pred: 0.1692 | mRNA Pred: 0.9957\n",
      "Epoch 72: EB evidence = 0.9711\n"
     ]
    },
    {
     "name": "stderr",
     "output_type": "stream",
     "text": [
      "                                                           \r"
     ]
    },
    {
     "name": "stdout",
     "output_type": "stream",
     "text": [
      "Epoch [73/100] Total Loss: 6.3422 | mRNA Recon: 0.9457 | Protein Recon: 0.0912 | Alignment: 0.0623 | Protein Pred: 0.1224 | mRNA Pred: 0.9532\n",
      "Epoch 73: EB evidence = 0.9707\n"
     ]
    },
    {
     "name": "stderr",
     "output_type": "stream",
     "text": [
      "                                                           \r"
     ]
    },
    {
     "name": "stdout",
     "output_type": "stream",
     "text": [
      "Epoch [74/100] Total Loss: 6.3382 | mRNA Recon: 0.9676 | Protein Recon: 0.0818 | Alignment: 0.0600 | Protein Pred: 0.1082 | mRNA Pred: 0.9740\n",
      "Epoch 74: EB evidence = 0.9804\n"
     ]
    },
    {
     "name": "stderr",
     "output_type": "stream",
     "text": [
      "                                                           \r"
     ]
    },
    {
     "name": "stdout",
     "output_type": "stream",
     "text": [
      "Epoch [75/100] Total Loss: 6.3340 | mRNA Recon: 0.9567 | Protein Recon: 0.0923 | Alignment: 0.0633 | Protein Pred: 0.1173 | mRNA Pred: 0.9605\n",
      "Epoch 75: EB evidence = 0.9796\n",
      "--> EB early stopping at epoch 75 (mean_evidence=0.9628, threshold=0.96)\n",
      "/ix/hosmanbeyoglu/haw309/DGAT_models/11535_gene_31_protein\n"
     ]
    }
   ],
   "source": [
    "device = torch.device(\"cuda\" if torch.cuda.is_available() else \"cpu\")\n",
    "model_components = train(adata_list, pdata_list, pyg_save_dir)\n",
    "\n",
    "model_save_path = f\"{model_save_dir}/{len(common_gene)}_gene_{len(common_protein)}_protein\"\n",
    "print(model_save_path)\n",
    "os.makedirs(model_save_path, exist_ok=True)\n",
    "torch.save(model_components['mRNA_encoder'].state_dict(), model_save_path+f'/encoder_mRNA.pth')\n",
    "torch.save(model_components['mRNA_decoder'].state_dict(), model_save_path+f'/decoder_mRNA.pth')\n",
    "torch.save(model_components['protein_encoder'].state_dict(), model_save_path+f'/encoder_protein.pth')\n",
    "torch.save(model_components['protein_decoder'].state_dict(), model_save_path+f'/decoder_protein.pth')\n",
    "\n"
   ]
  },
  {
   "cell_type": "code",
   "execution_count": null,
   "id": "257235b4-c684-46c5-8587-912d71ee5d2c",
   "metadata": {},
   "outputs": [],
   "source": []
  }
 ],
 "metadata": {
  "kernelspec": {
   "display_name": "Python 3 (ipykernel)",
   "language": "python",
   "name": "python3"
  },
  "language_info": {
   "codemirror_mode": {
    "name": "ipython",
    "version": 3
   },
   "file_extension": ".py",
   "mimetype": "text/x-python",
   "name": "python",
   "nbconvert_exporter": "python",
   "pygments_lexer": "ipython3",
   "version": "3.10.8"
  }
 },
 "nbformat": 4,
 "nbformat_minor": 5
}
